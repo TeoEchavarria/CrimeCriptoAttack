{
  "cells": [
    {
      "cell_type": "markdown",
      "metadata": {
        "id": "S2oYAi3q44_-"
      },
      "source": [
        "# **Ataque por Compresión**"
      ]
    },
    {
      "cell_type": "markdown",
      "metadata": {
        "id": "9xwEH97546_-"
      },
      "source": [
        "Instalamos las instancias necesarias para correr el codigo. \n",
        "\n",
        "Siendo **DEFLATE** la libreria usada para la parte de compresión.\n",
        "\n",
        "Y **pycrypto** necesaria para la encripción con **AES** "
      ]
    },
    {
      "cell_type": "code",
      "execution_count": 99,
      "metadata": {
        "colab": {
          "base_uri": "https://localhost:8080/"
        },
        "id": "47URZCbLDPPd",
        "outputId": "fd03bf62-4b33-4151-9c71-7eb5a511030d"
      },
      "outputs": [
        {
          "name": "stdout",
          "output_type": "stream",
          "text": [
            "Looking in indexes: https://pypi.org/simple, https://us-python.pkg.dev/colab-wheels/public/simple/\n",
            "Requirement already satisfied: deflate in /usr/local/lib/python3.7/dist-packages (0.3.0)\n",
            "Looking in indexes: https://pypi.org/simple, https://us-python.pkg.dev/colab-wheels/public/simple/\n",
            "Requirement already satisfied: pycrypto in /usr/local/lib/python3.7/dist-packages (2.6.1)\n"
          ]
        }
      ],
      "source": [
        "!pip install deflate\n",
        "!pip3 install pycrypto\n",
        "!pip install -U pycryptodome"
      ]
    },
    {
      "cell_type": "markdown",
      "metadata": {
        "id": "1fnn9W7F4-XW"
      },
      "source": [
        "Encriptamos con **AES** usando la libreria anteriormente mensionada, esta vez diferente al codigo usado para general la grafica, usamos **AES** en modo **CTR**, siendo esta la forma de cifrar en modo de flujo permitiendo mostrar la idea del ataque más clara sin necesidad de introducirnos al añadido de padding para separar los bloques"
      ]
    },
    {
      "cell_type": "code",
      "execution_count": 100,
      "metadata": {
        "colab": {
          "base_uri": "https://localhost:8080/"
        },
        "id": "XLYwpIPnDVJ7",
        "outputId": "9843524d-6c88-48fc-9c9f-35c91ffd5e1d"
      },
      "outputs": [
        {
          "name": "stdout",
          "output_type": "stream",
          "text": [
            "b'0DLVQ7QzZeKlDqi24izO+vx3mxD1eSDi4Uuo5rB5i7g='\n"
          ]
        }
      ],
      "source": [
        "# AES 256 encryption/decryption using pycrypto library\n",
        "\n",
        "import base64\n",
        "from Crypto.Cipher import AES\n",
        "from Crypto.Util import Counter\n",
        "from Crypto import Random\n",
        "from Crypto.Protocol.KDF import PBKDF2\n",
        "import os\n",
        "import time\n",
        "time.clock = time.time\n",
        "\n",
        "BLOCK_SIZE = 16\n",
        "pad = lambda s: s + bytes((BLOCK_SIZE - len(s) % BLOCK_SIZE) * \" \", encoding = \"utf-8\")\n",
        "unpad = lambda s: s[:-ord(s[len(s) - 1:])]\n",
        "password = \"contrasenaSegura\"\n",
        "\n",
        "#seed\n",
        "counter = os.urandom(16)\n",
        "\n",
        "def get_private_key(password):\n",
        "    salt = b\"Esto es la sal\"\n",
        "    kdf = PBKDF2(password, salt, 64, 1000)\n",
        "    key = kdf[:32]\n",
        "    return key\n",
        "\n",
        "def encrypt(raw, password):\n",
        "    private_key = get_private_key(password)\n",
        "    raw = pad(raw)\n",
        "    # Generar un nonce aleatorio para el contador\n",
        "    nonce = os.urandom(8)  # AES.block_size es 16 bytes, utilizamos 8 para el nonce\n",
        "    ctr = Counter.new(64, prefix=nonce)  # Crea un contador de 64 bits con un prefijo nonce de 8 bytes\n",
        "    cipher = AES.new(private_key, AES.MODE_CTR, counter=ctr)\n",
        "    encrypted = cipher.encrypt(raw)\n",
        "    return base64.b64encode(encrypted)  # Devuelve el nonce junto con los datos cifrados para el descifrado\n",
        "\n",
        "\n",
        "print(encrypt(bytes(\"Mensaje de prueba\", encoding = \"utf-8\" ), password))"
      ]
    },
    {
      "cell_type": "markdown",
      "metadata": {
        "id": "AaGCJ-kL5BCl"
      },
      "source": [
        "Definimos una lista llamada *abecedario* que adicional a contener las letras en mayúsculas y minúsculas contiene números y caracteres que son comúnmente permitidos en estos sistemas"
      ]
    },
    {
      "cell_type": "code",
      "execution_count": 101,
      "metadata": {
        "colab": {
          "base_uri": "https://localhost:8080/"
        },
        "id": "_vIPiq-ZDWBj",
        "outputId": "8e9a9f89-b072-4a4b-9f6e-d7c09d117afc"
      },
      "outputs": [
        {
          "name": "stdout",
          "output_type": "stream",
          "text": [
            "70 ['a', 'b', 'c', 'd', 'e', 'f', 'g', 'h', 'i', 'j', 'k', 'l', 'm', 'n', 'o', 'p', 'q', 'r', 's', 't', 'u', 'v', 'w', 'x', 'y', 'z', 'A', 'B', 'C', 'D', 'E', 'F', 'G', 'H', 'I', 'J', 'K', 'L', 'M', 'N', 'O', 'P', 'Q', 'R', 'S', 'T', 'U', 'V', 'W', 'X', 'Y', 'Z', '0', '1', '2', '3', '4', '5', '6', '7', '8', '9', '_', '.', '-', '+', '/', '=', ':', ';']\n"
          ]
        }
      ],
      "source": [
        "import string\n",
        "abecedario = list(dict.fromkeys(string.ascii_lowercase, 0).keys())\n",
        "abecedario.extend(list(dict.fromkeys(string.ascii_uppercase, 0).keys()))\n",
        "abecedario.extend([i for i in \"0123456789_.-+/=:;\"])\n",
        "\n",
        "print(len(abecedario),abecedario)"
      ]
    },
    {
      "cell_type": "markdown",
      "metadata": {
        "id": "GDO9w8m589De"
      },
      "source": [
        "Definimos *aut_cookie_2* que representa a la *cookie* en sí que explotara el atacante y teniendo en cuenta la idea del ataque y que el atacante sabe de comienzo como se ve el comienzo de la *cookie* definimos *know*."
      ]
    },
    {
      "cell_type": "markdown",
      "metadata": {
        "id": "XS5RctWY9HnY"
      },
      "source": [
        "Simulando lo que haria el protocolo diremos que cada bloque pesa 205, así que itero añadiendole padding a una cadena cortada del *aut_cookie_2* hasta llegar a ese peso. *(Recuerde que esto se hace para fines practicos de entender el ataque)* Llegando a que el padding necesario es de 18 bytes aleatorios."
      ]
    },
    {
      "cell_type": "code",
      "execution_count": 108,
      "metadata": {
        "colab": {
          "base_uri": "https://localhost:8080/"
        },
        "id": "kMe55DCAdoeU",
        "outputId": "714d3ad3-a504-411d-b494-34d0b121820f"
      },
      "outputs": [
        {
          "name": "stdout",
          "output_type": "stream",
          "text": [
            "161\n",
            "161\n",
            "185\n",
            "185\n",
            "185\n",
            "185\n",
            "185\n",
            "185\n",
            "185\n",
            "185\n",
            "185\n",
            "185\n",
            "185\n",
            "185\n",
            "185\n",
            "185\n",
            "185\n",
            "205\n",
            "18\n"
          ]
        }
      ],
      "source": [
        "import sys\n",
        "import deflate\n",
        "\n",
        "aut_cookie_2 = \"\"\"\n",
        "POST /echo/post/json HTTP/1.1\n",
        "Host: bancopolombia.com\n",
        "Cookie SECRET: 7xc89f+94qwrtraqueta\n",
        "\"\"\"\n",
        "\n",
        "know = \"\"\"\n",
        "POST /echo/post/json HTTP/1.1\n",
        "Host: bancopolombia.com\n",
        "Cookie SECRET: \"\"\"\n",
        "\n",
        "\n",
        "cookie_base = bytes(aut_cookie_2, encoding = \"utf-8\") # Pesa 185\n",
        "#Decimos que el peso del bloque es de 205\n",
        "\n",
        "#Tomo una cadena cortada de el aut_cookie_2 simulando que es el corte del bloque como base\n",
        "cookie_base = bytes(aut_cookie_2[:-20], encoding = \"utf-8\") # Peso cookie cortada = 161\n",
        "peso_envio = sys.getsizeof(encrypt(deflate.gzip_compress(cookie_base, 9), password))\n",
        "n = 0\n",
        "while peso_envio < 205:\n",
        "  n += 1                                                        #Añadimos n-bytes aleatorios con el fin de llegar al peso deseado\n",
        "  cookie_base = bytes(know + aut_cookie_2[:-20] , encoding = \"utf-8\") + Random.get_random_bytes(n) \n",
        "  peso_envio = sys.getsizeof(encrypt(deflate.gzip_compress(cookie_base, 9), password))\n",
        "\n",
        "  print(peso_envio)\n",
        "\n",
        "print(n)"
      ]
    },
    {
      "cell_type": "markdown",
      "metadata": {
        "id": "OtFXsqjqA9Jt"
      },
      "source": [
        "# Inicio del Ataque"
      ]
    },
    {
      "cell_type": "markdown",
      "metadata": {
        "id": "gksN3gPaAc2K"
      },
      "source": [
        "Teniendo que el padding ya estipulado *(18)* notemos que se le tiene que quitar un bit al padding para añadir la **adivinanza** = **letter**.\n",
        "\n",
        "Almacenamos el peso de cada petición en *aux* y observamos cuando dicho peso baja, dado que si este es menor a los otros significa que hay una mejor compresión y por lo tanto la **adivinanza** es correcta."
      ]
    },
    {
      "cell_type": "code",
      "execution_count": 103,
      "metadata": {
        "colab": {
          "base_uri": "https://localhost:8080/"
        },
        "id": "Xs4CubjXkPUz",
        "outputId": "8308a4c2-d53a-496e-a1eb-f19270f622ef"
      },
      "outputs": [
        {
          "name": "stdout",
          "output_type": "stream",
          "text": [
            "2 {'b': 185, '7': 185}\n"
          ]
        }
      ],
      "source": [
        "\n",
        "aux = {}\n",
        "min = None \n",
        "padding = Random.get_random_bytes(17)\n",
        "\n",
        "for letter in abecedario:\n",
        "  aux_bloque = padding + bytes( know + letter + aut_cookie_2[:-20], encoding = \"utf-8\") \n",
        "  peso_aux = sys.getsizeof(encrypt(deflate.gzip_compress(aux_bloque,9), password))\n",
        "\n",
        "  #guardamos el peso de cada peticion junto con la letra respectiva\n",
        "  aux[letter] = peso_aux\n",
        "\n",
        "  #actualizamos el peso más bajo\n",
        "  if min == None:\n",
        "      min = peso_aux\n",
        "  elif peso_aux < min:\n",
        "      min = peso_aux\n",
        "\n",
        "#filtro solo los que tengan el peso minimo encontrado\n",
        "cant_min = dict(filter(lambda x: x[1] == min, aux.items()))\n",
        "\n",
        "print(len(cant_min),cant_min) "
      ]
    },
    {
      "cell_type": "markdown",
      "metadata": {
        "id": "TG-BhNPSHX72"
      },
      "source": [
        "Nos lanza 2 letras que tiene el minimo peso registrado. \n",
        "\n",
        "> Si se cambia la cantidad de padding a un byte más o uno menos los pesos para las 70 letras es el mismo por lo que no se nota una vulnerabilidad\n",
        "\n"
      ]
    },
    {
      "cell_type": "markdown",
      "metadata": {
        "id": "6JBhgABJDZy5"
      },
      "source": [
        "Comenzos a probar con estos 2 resultados:\n",
        "\n",
        "Note que se le vuelve a quitar un byte al padding otra vez y que el aut_cookie_2 se le añade una letra. Esto con el fin de que a la hora de comprimir estos 2 coinsidan y que en los demas casos falle mostrando un peso mayor."
      ]
    },
    {
      "cell_type": "code",
      "execution_count": 104,
      "metadata": {
        "colab": {
          "base_uri": "https://localhost:8080/"
        },
        "id": "aLriJqIiDDBc",
        "outputId": "14a735ac-71c5-4bd8-dc08-dac81de1f29d"
      },
      "outputs": [
        {
          "name": "stdout",
          "output_type": "stream",
          "text": [
            "1 {'a': 185}\n",
            "1 {'x': 185}\n"
          ]
        }
      ],
      "source": [
        "abecedario_aux_2 = {'b': 185, '7': 185}\n",
        "aux = {}\n",
        "min = None \n",
        "padding = Random.get_random_bytes(16)\n",
        "\n",
        "for key in abecedario_aux_2.keys():\n",
        "  for letter in abecedario:\n",
        "    aux_bloque = bytes( know + key + letter + aut_cookie_2[:-19], encoding = \"utf-8\") + padding\n",
        "    peso_aux = sys.getsizeof(encrypt(deflate.gzip_compress(aux_bloque, 1), password))\n",
        "\n",
        "    aux[letter] = peso_aux\n",
        "    if min == None:\n",
        "        min = peso_aux\n",
        "    elif peso_aux < min:\n",
        "        min = peso_aux\n",
        "\n",
        "  cant_min = dict(filter(lambda x: x[1] == min, aux.items()))\n",
        "\n",
        "  print(len(cant_min),cant_min) "
      ]
    },
    {
      "cell_type": "markdown",
      "metadata": {
        "id": "aqeqjuluEBXw"
      },
      "source": [
        "Y ahora Semi-automatizamos el proceso"
      ]
    },
    {
      "cell_type": "markdown",
      "metadata": {
        "id": "yrcGeaS4ENSl"
      },
      "source": [
        "# Ataque TLS Semi-Automatizado"
      ]
    },
    {
      "cell_type": "markdown",
      "metadata": {
        "id": "wERwzQ0_NIDA"
      },
      "source": [
        "Realizamos lo anterior de forma iterativa tomando como base 17 bytes aleatorios de padding y reduciendo su cantidad en cada iteración para introducir una nueva *adivinanza*."
      ]
    },
    {
      "cell_type": "code",
      "execution_count": 118,
      "metadata": {
        "colab": {
          "base_uri": "https://localhost:8080/"
        },
        "id": "Rwg3vWiPNs7r",
        "outputId": "8cc93917-d0ef-45ef-90f5-6393207b9ac2"
      },
      "outputs": [
        {
          "name": "stdout",
          "output_type": "stream",
          "text": [
            "cant_min 2 {'b': 185, '7': 185}\n",
            "cual le añadimos - tenga encuenta a 'cant_min' : 7\n",
            " \n",
            "cant_min 1 {'x': 185}\n",
            " \n",
            "cant_min 1 {'c': 185}\n",
            " \n",
            "cant_min 1 {'8': 185}\n",
            " \n",
            "cant_min 1 {'9': 185}\n",
            " \n",
            "cant_min 1 {'f': 185}\n",
            " \n",
            "cant_min 1 {'+': 185}\n",
            " \n",
            "cant_min 1 {'9': 185}\n",
            " \n",
            "cant_min 1 {'4': 185}\n",
            " \n",
            "cant_min 1 {'q': 185}\n",
            " \n",
            "\n",
            "POST /echo/post/json HTTP/1.1\n",
            "Host: bancopolombia.com\n",
            "Cookie SECRET: 7xc89f+94q\n"
          ]
        }
      ],
      "source": [
        "aut_cookie_2 = \"\"\"\n",
        "POST /echo/post/json HTTP/1.1\n",
        "Host: bancopolombia.com\n",
        "Cookie SECRET: 7xc89f+94qwrtraqueta\n",
        "\"\"\"\n",
        "\n",
        "know = \"\"\"\n",
        "POST /echo/post/json HTTP/1.1\n",
        "Host: bancopolombia.com\n",
        "Cookie SECRET: \"\"\"\n",
        "\n",
        "\n",
        "aux = {}\n",
        "min = None \n",
        "n = 0\n",
        "while n != 10:\n",
        "  padding = Random.get_random_bytes(17-n)\n",
        "  for letter in abecedario:\n",
        "    aux_bloque = bytes( know + letter + aut_cookie_2[:-20+n], encoding = \"utf-8\") + padding\n",
        "    peso_aux = sys.getsizeof(encrypt(deflate.gzip_compress(aux_bloque, 9), password))\n",
        "\n",
        "    aux[letter] = peso_aux\n",
        "    if min == None:\n",
        "        min = peso_aux\n",
        "    elif peso_aux < min:\n",
        "        min = peso_aux\n",
        "\n",
        "  cant_min = dict(filter(lambda x: x[1] == min, aux.items()))\n",
        "  print(\"cant_min\" , len(cant_min),cant_min) \n",
        "\n",
        "  if len(cant_min) > 1:\n",
        "    know += input(\"cual le añadimos - tenga encuenta a 'cant_min' : \")\n",
        "  else:\n",
        "    for i in cant_min.keys():\n",
        "      know += i\n",
        "  \n",
        "  n += 1\n",
        "  print(\" \")\n",
        "print(know)"
      ]
    }
  ],
  "metadata": {
    "colab": {
      "provenance": []
    },
    "kernelspec": {
      "display_name": "Python 3",
      "name": "python3"
    },
    "language_info": {
      "name": "python"
    }
  },
  "nbformat": 4,
  "nbformat_minor": 0
}
